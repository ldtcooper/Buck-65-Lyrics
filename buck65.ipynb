{
 "metadata": {
  "language_info": {
   "codemirror_mode": {
    "name": "ipython",
    "version": 3
   },
   "file_extension": ".py",
   "mimetype": "text/x-python",
   "name": "python",
   "nbconvert_exporter": "python",
   "pygments_lexer": "ipython3",
   "version": "3.9.4"
  },
  "orig_nbformat": 2,
  "kernelspec": {
   "name": "python394jvsc74a57bd00ade51d2f248a4db4c8713574dd01ddbcf6805a2f9b7c250527c832b53a9f4a1",
   "display_name": "Python 3.9.4 64-bit ('buck65': conda)"
  }
 },
 "nbformat": 4,
 "nbformat_minor": 2,
 "cells": [
  {
   "source": [
    "# INTRO\n",
    "Ever since coming across [Matt Daniel's Rapper Vocabulary Chart](https://pudding.cool/projects/vocabulary/index.html), I've been interested in how one of my favorite rappers -- Buck 65 -- would place on there. To find that, I'll be getting as many lyrics as I can from LyricsGenius to get up to 35,000 lyrics in accordance with the original methodology:\n",
    "\n",
    "```\n",
    "35,000 words covers 3-5 studio albums and EPs. I included mixtapes if the artist was just short of the 35,000 words. Quite a few rappers don’t have enough official material to be included (e.g., Biggie, Kendrick Lamar). As a benchmark, I included data points for Shakespeare and Herman Melville, using the same approach (35,000 words across several plays for Shakespeare, first 35,000 of Moby Dick).\n",
    "\n",
    "I used a research methodology called token analysis to determine each artist’s vocabulary. Each word is counted once, so pimps, pimp, pimping, and pimpin are four unique words. To avoid issues with apostrophes (e.g., pimpin’ vs. pimpin), they’re removed from the dataset. It still isn’t perfect. Hip hop is full of slang that is hard to transcribe (e.g., shorty vs. shawty), compound words (e.g., king shit), featured vocalists, and repetitive choruses.\n",
    "```\n",
    "\n",
    "With those lyrics, I'll be cleaning the data to remove apostrophes and (possibly) other special characters, and then using NLTK to break the lyrics into tokens and count the number of individual words."
   ],
   "cell_type": "markdown",
   "metadata": {}
  },
  {
   "cell_type": "code",
   "execution_count": 1,
   "metadata": {},
   "outputs": [],
   "source": [
    "import lyricsgenius\n",
    "import json\n",
    "import pandas as pd\n",
    "\n",
    "secrets_file = open('secrets.json')\n",
    "secrets = json.load(secrets_file)\n",
    "secrets_file.close()\n",
    "\n",
    "def make_initial_dataframe(json_file):\n",
    "    f = open(json_file)\n",
    "    buck_json = json.load(f)\n",
    "    songs = pd.DataFrame(buck_json['songs'])\n",
    "\n",
    "    unneeded_cols = list(songs.columns.values)\n",
    "\n",
    "    # we only need these three values, so we drop the rest\n",
    "    unneeded_cols.remove('lyrics')\n",
    "    unneeded_cols.remove('title')\n",
    "    unneeded_cols.remove('release_date')\n",
    "    unneeded_cols.remove('album')\n",
    "\n",
    "    songs = songs.drop(unneeded_cols, axis=1)\n",
    "    songs.head()\n",
    "    return songs\n",
    "\n",
    "def find_album(album):\n",
    "    return album['name']\n",
    "\n",
    "def format_albums(songs):\n",
    "    albums = songs['album']\n",
    "    songs['album'] = albums.map(find_album, na_action='ignore')\n",
    "\n",
    "    songs.head()\n",
    "    return songs\n",
    "\n",
    "def clean_lyrics(songs):\n",
    "    # remove remixes\n",
    "    remixes = songs['title'].str.contains('([rR]emix\\)|\\[Acoustic Version\\])')\n",
    "    songs = songs[~remixes]\n",
    "\n",
    "    # remove newlines\n",
    "    songs['lyrics'] = songs['lyrics'].str.replace('[\\n\\t]', ' ')\n",
    "    # replace hyphens/dashes with spaces\n",
    "    songs['lyrics'] = songs['lyrics'].str.replace('[-–—]', ' ')\n",
    "    # remove all other punctuation\n",
    "    songs['lyrics'] = songs['lyrics'].str.replace('[^a-zA-Z0-9 ]', '')\n",
    "\n",
    "    songs['lyrics'] = songs['lyrics'].str.lower()\n",
    "    return songs"
   ]
  },
  {
   "cell_type": "code",
   "execution_count": 2,
   "metadata": {},
   "outputs": [],
   "source": [
    "# set up genius api access\n",
    "genius = lyricsgenius.Genius(secrets['CLIENT_ACCESS_TOKEN'])\n",
    "genius.remove_section_headers = True"
   ]
  },
  {
   "cell_type": "code",
   "execution_count": 3,
   "metadata": {},
   "outputs": [],
   "source": [
    "# this only needs to be run if Lyrics_Buck65.json doesn't exist\n",
    "# it will also take a while\n",
    "# buck = genius.search_artist(\"Buck 65\")\n",
    "# buck.save_lyrics()"
   ]
  },
  {
   "cell_type": "code",
   "execution_count": 4,
   "metadata": {},
   "outputs": [],
   "source": [
    "# turn JSON into pandas dataframe\n",
    "songs = make_initial_dataframe(\"Lyrics_Buck65.json\")"
   ]
  },
  {
   "cell_type": "code",
   "execution_count": 5,
   "metadata": {},
   "outputs": [],
   "source": [
    "# get the album name from the JSON \n",
    "songs = format_albums(songs)"
   ]
  },
  {
   "cell_type": "code",
   "execution_count": 6,
   "metadata": {},
   "outputs": [
    {
     "output_type": "execute_result",
     "data": {
      "text/plain": [
       "                     title release_date  \\\n",
       "81             Who By Fire         None   \n",
       "27         Cold Steel Drum   2011-01-01   \n",
       "31          Zombie Delight   2011-02-07   \n",
       "54            She Said Yes   2011-01-01   \n",
       "59                     BCC   2011-01-01   \n",
       "62     Tears Of Your Heart   2011-02-07   \n",
       "76          Final Approach   2011-01-01   \n",
       "8           Paper Airplane   2011-01-01   \n",
       "25                Gee Whiz         None   \n",
       "5    Whispers Of The Waves   2011-01-01   \n",
       "101  Superstars Don’t Love         None   \n",
       "95                    Stop   2011-01-01   \n",
       "107              Joey Bats         None   \n",
       "108                Dolores   2011-01-01   \n",
       "127                 Stupid         None   \n",
       "163            Highway 101         None   \n",
       "145                January   2004-01-01   \n",
       "9             Blood, Pt. 2   2009-02-16   \n",
       "153             Feels Like         None   \n",
       "129            Why So Sad?   2008-01-01   \n",
       "\n",
       "                                                 album  \\\n",
       "81                                        20 Odd Years   \n",
       "27                                        20 Odd Years   \n",
       "31                                        20 Odd Years   \n",
       "54                                        20 Odd Years   \n",
       "59                                        20 Odd Years   \n",
       "62                                        20 Odd Years   \n",
       "76                                        20 Odd Years   \n",
       "8                                         20 Odd Years   \n",
       "25                                        20 Odd Years   \n",
       "5                                         20 Odd Years   \n",
       "101                                       20 Odd Years   \n",
       "95                                        20 Odd Years   \n",
       "107                20 Odd Years: Volume 4 - Ostranenie   \n",
       "108                20 Odd Years: Volume 4 - Ostranenie   \n",
       "127                                     Boy-Girl Fight   \n",
       "163                                     Boy-Girl Fight   \n",
       "145  Climbing Up a Mountain With a Basket Full of F...   \n",
       "9                                   Dark Was the Night   \n",
       "153                                           Dirtbike   \n",
       "129                                         Dirtbike 3   \n",
       "\n",
       "                                                lyrics  \n",
       "81   And who by fire?\\nWho by water?\\nWho in the su...  \n",
       "27   I lay down for you, in black and blue\\nLife he...  \n",
       "31   Zombie Delight Zombie Delight\\nZombies are com...  \n",
       "54   She wrote back, too alone\\nA single pair of sh...  \n",
       "59   BCC the ADD\\nWe don't have much time you see\\n...  \n",
       "62   (French singing)\\n\\nAge is beauty, bewildered ...  \n",
       "76   The sun is always shining bright, at thirty th...  \n",
       "8    Down by the lake you saw me\\nAnd you knew I wa...  \n",
       "25   Tell me what is it is, Gee Whiz, I don't think...  \n",
       "5    I am the deck, you are the sea...*\\nI am the l...  \n",
       "101  Michael Jackson died today\\nCycle's action, hi...  \n",
       "95   Stop you need to listen\\nJust let me show you ...  \n",
       "107  Jose Baustia, also known as Joey Bats\\nKnow th...  \n",
       "108  All the world was black and white\\nJust a soun...  \n",
       "127  Get stupid y'all\\n\\nLimited Scream\\nMen and wo...  \n",
       "163  Snakes in the outerfield, infield vipers\\nI re...  \n",
       "145  Now I could hear the coyotes when I laid in a ...  \n",
       "9    You're not bloody swab paradise\\nYou're golden...  \n",
       "153  She found the lost boy, eyes that are crying c...  \n",
       "129  Under the bed, on the floor, through the roof\\...  "
      ],
      "text/html": "<div>\n<style scoped>\n    .dataframe tbody tr th:only-of-type {\n        vertical-align: middle;\n    }\n\n    .dataframe tbody tr th {\n        vertical-align: top;\n    }\n\n    .dataframe thead th {\n        text-align: right;\n    }\n</style>\n<table border=\"1\" class=\"dataframe\">\n  <thead>\n    <tr style=\"text-align: right;\">\n      <th></th>\n      <th>title</th>\n      <th>release_date</th>\n      <th>album</th>\n      <th>lyrics</th>\n    </tr>\n  </thead>\n  <tbody>\n    <tr>\n      <th>81</th>\n      <td>Who By Fire</td>\n      <td>None</td>\n      <td>20 Odd Years</td>\n      <td>And who by fire?\\nWho by water?\\nWho in the su...</td>\n    </tr>\n    <tr>\n      <th>27</th>\n      <td>Cold Steel Drum</td>\n      <td>2011-01-01</td>\n      <td>20 Odd Years</td>\n      <td>I lay down for you, in black and blue\\nLife he...</td>\n    </tr>\n    <tr>\n      <th>31</th>\n      <td>Zombie Delight</td>\n      <td>2011-02-07</td>\n      <td>20 Odd Years</td>\n      <td>Zombie Delight Zombie Delight\\nZombies are com...</td>\n    </tr>\n    <tr>\n      <th>54</th>\n      <td>She Said Yes</td>\n      <td>2011-01-01</td>\n      <td>20 Odd Years</td>\n      <td>She wrote back, too alone\\nA single pair of sh...</td>\n    </tr>\n    <tr>\n      <th>59</th>\n      <td>BCC</td>\n      <td>2011-01-01</td>\n      <td>20 Odd Years</td>\n      <td>BCC the ADD\\nWe don't have much time you see\\n...</td>\n    </tr>\n    <tr>\n      <th>62</th>\n      <td>Tears Of Your Heart</td>\n      <td>2011-02-07</td>\n      <td>20 Odd Years</td>\n      <td>(French singing)\\n\\nAge is beauty, bewildered ...</td>\n    </tr>\n    <tr>\n      <th>76</th>\n      <td>Final Approach</td>\n      <td>2011-01-01</td>\n      <td>20 Odd Years</td>\n      <td>The sun is always shining bright, at thirty th...</td>\n    </tr>\n    <tr>\n      <th>8</th>\n      <td>Paper Airplane</td>\n      <td>2011-01-01</td>\n      <td>20 Odd Years</td>\n      <td>Down by the lake you saw me\\nAnd you knew I wa...</td>\n    </tr>\n    <tr>\n      <th>25</th>\n      <td>Gee Whiz</td>\n      <td>None</td>\n      <td>20 Odd Years</td>\n      <td>Tell me what is it is, Gee Whiz, I don't think...</td>\n    </tr>\n    <tr>\n      <th>5</th>\n      <td>Whispers Of The Waves</td>\n      <td>2011-01-01</td>\n      <td>20 Odd Years</td>\n      <td>I am the deck, you are the sea...*\\nI am the l...</td>\n    </tr>\n    <tr>\n      <th>101</th>\n      <td>Superstars Don’t Love</td>\n      <td>None</td>\n      <td>20 Odd Years</td>\n      <td>Michael Jackson died today\\nCycle's action, hi...</td>\n    </tr>\n    <tr>\n      <th>95</th>\n      <td>Stop</td>\n      <td>2011-01-01</td>\n      <td>20 Odd Years</td>\n      <td>Stop you need to listen\\nJust let me show you ...</td>\n    </tr>\n    <tr>\n      <th>107</th>\n      <td>Joey Bats</td>\n      <td>None</td>\n      <td>20 Odd Years: Volume 4 - Ostranenie</td>\n      <td>Jose Baustia, also known as Joey Bats\\nKnow th...</td>\n    </tr>\n    <tr>\n      <th>108</th>\n      <td>Dolores</td>\n      <td>2011-01-01</td>\n      <td>20 Odd Years: Volume 4 - Ostranenie</td>\n      <td>All the world was black and white\\nJust a soun...</td>\n    </tr>\n    <tr>\n      <th>127</th>\n      <td>Stupid</td>\n      <td>None</td>\n      <td>Boy-Girl Fight</td>\n      <td>Get stupid y'all\\n\\nLimited Scream\\nMen and wo...</td>\n    </tr>\n    <tr>\n      <th>163</th>\n      <td>Highway 101</td>\n      <td>None</td>\n      <td>Boy-Girl Fight</td>\n      <td>Snakes in the outerfield, infield vipers\\nI re...</td>\n    </tr>\n    <tr>\n      <th>145</th>\n      <td>January</td>\n      <td>2004-01-01</td>\n      <td>Climbing Up a Mountain With a Basket Full of F...</td>\n      <td>Now I could hear the coyotes when I laid in a ...</td>\n    </tr>\n    <tr>\n      <th>9</th>\n      <td>Blood, Pt. 2</td>\n      <td>2009-02-16</td>\n      <td>Dark Was the Night</td>\n      <td>You're not bloody swab paradise\\nYou're golden...</td>\n    </tr>\n    <tr>\n      <th>153</th>\n      <td>Feels Like</td>\n      <td>None</td>\n      <td>Dirtbike</td>\n      <td>She found the lost boy, eyes that are crying c...</td>\n    </tr>\n    <tr>\n      <th>129</th>\n      <td>Why So Sad?</td>\n      <td>2008-01-01</td>\n      <td>Dirtbike 3</td>\n      <td>Under the bed, on the floor, through the roof\\...</td>\n    </tr>\n  </tbody>\n</table>\n</div>"
     },
     "metadata": {},
     "execution_count": 6
    }
   ],
   "source": [
    "songs.sort_values(by='album', inplace=True)\n",
    "songs.head(20)"
   ]
  },
  {
   "cell_type": "code",
   "execution_count": 7,
   "metadata": {},
   "outputs": [
    {
     "output_type": "stream",
     "name": "stderr",
     "text": [
      "/root/miniconda3/envs/buck65/lib/python3.9/site-packages/pandas/core/strings/accessor.py:101: UserWarning: This pattern has match groups. To actually get the groups, use str.extract.\n  return func(self, *args, **kwargs)\n<ipython-input-1-8f6cb536841b>:42: FutureWarning: The default value of regex will change from True to False in a future version.\n  songs['lyrics'] = songs['lyrics'].str.replace('[\\n\\t]', ' ')\n<ipython-input-1-8f6cb536841b>:42: SettingWithCopyWarning: \nA value is trying to be set on a copy of a slice from a DataFrame.\nTry using .loc[row_indexer,col_indexer] = value instead\n\nSee the caveats in the documentation: https://pandas.pydata.org/pandas-docs/stable/user_guide/indexing.html#returning-a-view-versus-a-copy\n  songs['lyrics'] = songs['lyrics'].str.replace('[\\n\\t]', ' ')\n<ipython-input-1-8f6cb536841b>:44: FutureWarning: The default value of regex will change from True to False in a future version.\n  songs['lyrics'] = songs['lyrics'].str.replace('[-–—]', ' ')\n<ipython-input-1-8f6cb536841b>:44: SettingWithCopyWarning: \nA value is trying to be set on a copy of a slice from a DataFrame.\nTry using .loc[row_indexer,col_indexer] = value instead\n\nSee the caveats in the documentation: https://pandas.pydata.org/pandas-docs/stable/user_guide/indexing.html#returning-a-view-versus-a-copy\n  songs['lyrics'] = songs['lyrics'].str.replace('[-–—]', ' ')\n<ipython-input-1-8f6cb536841b>:46: FutureWarning: The default value of regex will change from True to False in a future version.\n  songs['lyrics'] = songs['lyrics'].str.replace('[^a-zA-Z0-9 ]', '')\n<ipython-input-1-8f6cb536841b>:46: SettingWithCopyWarning: \nA value is trying to be set on a copy of a slice from a DataFrame.\nTry using .loc[row_indexer,col_indexer] = value instead\n\nSee the caveats in the documentation: https://pandas.pydata.org/pandas-docs/stable/user_guide/indexing.html#returning-a-view-versus-a-copy\n  songs['lyrics'] = songs['lyrics'].str.replace('[^a-zA-Z0-9 ]', '')\n<ipython-input-1-8f6cb536841b>:48: SettingWithCopyWarning: \nA value is trying to be set on a copy of a slice from a DataFrame.\nTry using .loc[row_indexer,col_indexer] = value instead\n\nSee the caveats in the documentation: https://pandas.pydata.org/pandas-docs/stable/user_guide/indexing.html#returning-a-view-versus-a-copy\n  songs['lyrics'] = songs['lyrics'].str.lower()\n"
     ]
    },
    {
     "output_type": "execute_result",
     "data": {
      "text/plain": [
       "297778"
      ]
     },
     "metadata": {},
     "execution_count": 7
    }
   ],
   "source": [
    "# clean data\n",
    "songs = clean_lyrics(songs)\n",
    "\n",
    "\n",
    "# save\n",
    "songs.to_csv('buck65.tsv', sep=\"\\t\", index=False)\n",
    "\n",
    "songs['lyrics'].str.len().sum()\n",
    "\n",
    "\n",
    "\n",
    "\n"
   ]
  },
  {
   "source": [
    "# Rundown\n",
    "\n",
    "So far, we have gathered, sorted, and cleaned all of the lyrics from Buck 65's Genius entry. We can see that we have 297,778 individual lyrics across 163 songs. The first step then is to narrow that down to the 35,000 used in the original project. More specifically, we need to get the (chronologically) first 35,000 words. To do that, we'll need a list of his albums, which I've gotten from [this Wikipedia article](https://en.wikipedia.org/wiki/Buck_65_discography). The most relevant part of that article is pasted below:\n",
    "\n",
    "```\n",
    "Studio albums\n",
    "Buck 65\n",
    "\n",
    "Game Tight (1994)\n",
    "Year Zero (1996)\n",
    "Weirdo Magnet (1996)\n",
    "Language Arts (1996)\n",
    "Vertex (1998)\n",
    "Man Overboard (Anticon, 2001)\n",
    "Synesthesia (Endemik, 2001)\n",
    "Square (WEA, 2002)\n",
    "Talkin' Honky Blues (WEA, 2003)\n",
    "Secret House Against the World (WEA, 2005)\n",
    "Situation (Strange Famous, 2007)\n",
    "20 Odd Years (WEA, 2011)\n",
    "Laundromat Boogie (2014)\n",
    "Neverlove (2014)\n",
    "```"
   ],
   "cell_type": "markdown",
   "metadata": {}
  },
  {
   "cell_type": "code",
   "execution_count": 8,
   "metadata": {
    "tags": []
   },
   "outputs": [
    {
     "output_type": "stream",
     "name": "stderr",
     "text": [
      "[nltk_data] Downloading package punkt to /root/nltk_data...\n[nltk_data]   Package punkt is already up-to-date!\n"
     ]
    }
   ],
   "source": [
    "import nltk\n",
    "nltk.download('punkt')\n",
    "\n",
    "songs = pd.read_csv('buck65.tsv', sep=\"\\t\", keep_default_na=False)"
   ]
  },
  {
   "cell_type": "code",
   "execution_count": 9,
   "metadata": {},
   "outputs": [
    {
     "output_type": "execute_result",
     "data": {
      "text/plain": [
       "Neverlove (Deluxe Edition)                                          17\n",
       "Talkin’ Honky Blues                                                 17\n",
       "Vertex                                                              16\n",
       "Situation                                                           16\n",
       "Man Overboard                                                       13\n",
       "Language Arts                                                       13\n",
       "Secret House Against The World                                      12\n",
       "20 Odd Years                                                        12\n",
       "                                                                    11\n",
       "Synesthesia                                                          9\n",
       "This Right Here is Buck 65                                           5\n",
       "Square                                                               4\n",
       "Boy-Girl Fight                                                       2\n",
       "20 Odd Years: Volume 4 - Ostranenie                                  2\n",
       "Dirtbike 3                                                           2\n",
       "Dirtywork E.P.                                                       2\n",
       "I Dream Of Love: Live And In Private                                 2\n",
       "Pole-Axed (More Rarities)                                            1\n",
       "Weirdo Magnet                                                        1\n",
       "Year Of The Carnivore Soundtrack                                     1\n",
       "Climbing Up a Mountain With a Basket Full of Fruit                   1\n",
       "Dark Was the Night                                                   1\n",
       "Skratch Bastid Presents: Cretin Hip Hop Vol. 1 (Buck 65 Mixtape)     1\n",
       "Dirtbike                                                             1\n",
       "Giga Single                                                          1\n",
       "Name: album, dtype: int64"
      ]
     },
     "metadata": {},
     "execution_count": 9
    }
   ],
   "source": [
    "# useful for coding next cell\n",
    "songs['album'].value_counts()"
   ]
  },
  {
   "cell_type": "code",
   "execution_count": 10,
   "metadata": {},
   "outputs": [
    {
     "output_type": "execute_result",
     "data": {
      "text/plain": [
       "                       title release_date                       album  \\\n",
       "96           The Outskirters                               Situation    \n",
       "10     Superstars Don’t Love                             20 Odd Years   \n",
       "1            Cold Steel Drum   2011-01-01                20 Odd Years   \n",
       "2             Zombie Delight   2011-02-07                20 Odd Years   \n",
       "3               She Said Yes   2011-01-01                20 Odd Years   \n",
       "4                        BCC   2011-01-01                20 Odd Years   \n",
       "5        Tears Of Your Heart   2011-02-07                20 Odd Years   \n",
       "6             Final Approach   2011-01-01                20 Odd Years   \n",
       "7             Paper Airplane   2011-01-01                20 Odd Years   \n",
       "8                   Gee Whiz                             20 Odd Years   \n",
       "9      Whispers Of The Waves   2011-01-01                20 Odd Years   \n",
       "11                      Stop   2011-01-01                20 Odd Years   \n",
       "0                Who By Fire                             20 Odd Years   \n",
       "55           Danger And Play   2014-09-23  Neverlove (Deluxe Edition)   \n",
       "68  That’s The Way Love Dies   2014-09-30  Neverlove (Deluxe Edition)   \n",
       "66     Love Will Fuck You Up   2014-09-30  Neverlove (Deluxe Edition)   \n",
       "65               Ugly Bridge   2014-09-30  Neverlove (Deluxe Edition)   \n",
       "64            Heart of Stone   2014-08-21  Neverlove (Deluxe Edition)   \n",
       "63             Gates Of Hell   2014-09-30  Neverlove (Deluxe Edition)   \n",
       "62                  Only War   2014-06-25  Neverlove (Deluxe Edition)   \n",
       "56                Fairytales   2013-03-13  Neverlove (Deluxe Edition)   \n",
       "61                 Neverlove   2014-09-30  Neverlove (Deluxe Edition)   \n",
       "59             A Case For Us   2014-09-30  Neverlove (Deluxe Edition)   \n",
       "58      Super Pretty Naughty   2014-09-02  Neverlove (Deluxe Edition)   \n",
       "57     Superhero In My Heart   2014-09-30  Neverlove (Deluxe Edition)   \n",
       "52       Je T’aime Mon Amour   2014-09-29  Neverlove (Deluxe Edition)   \n",
       "53         Roses In The Rain   2014-09-09  Neverlove (Deluxe Edition)   \n",
       "54              Baby Blanket   2014-09-30  Neverlove (Deluxe Edition)   \n",
       "60          NSFW Music Video   2014-09-30  Neverlove (Deluxe Edition)   \n",
       "67                 She Fades   2014-09-16  Neverlove (Deluxe Edition)   \n",
       "\n",
       "                                               lyrics  \\\n",
       "96  young and attractive quote unquote old soul do...   \n",
       "10  michael jackson died today cycles action hidea...   \n",
       "1   i lay down for you in black and blue life here...   \n",
       "2   zombie delight zombie delight zombies are comi...   \n",
       "3   she wrote back too alone a single pair of shoo...   \n",
       "4   bcc the add we dont have much time you see bcc...   \n",
       "5   french singing  age is beauty bewildered young...   \n",
       "6   the sun is always shining bright at thirty tho...   \n",
       "7   down by the lake you saw me and you knew i was...   \n",
       "8   tell me what is it is gee whiz i dont think i ...   \n",
       "9   i am the deck you are the sea i am the light o...   \n",
       "11  stop you need to listen just let me show you a...   \n",
       "0   and who by fire who by water who in the sunshi...   \n",
       "55  heres a man whos come apart pieces missing unc...   \n",
       "68  thats the way love dies it starts when youre a...   \n",
       "66  i live in an ugly city nowhere else id rather ...   \n",
       "65  oh damn i wish that i were dead sleeping somew...   \n",
       "64  cant break a heart of stone no youre only goin...   \n",
       "63  now im feeling devilish soon were going to set...   \n",
       "62  kiss it better stop the bleeding she attacks h...   \n",
       "56  i dont believe in fairytales in love and other...   \n",
       "61  back in the game on the prowl after noon looki...   \n",
       "59  maybe theres a place for us to go somewhere we...   \n",
       "58  fancy time naked saturday wild stylin now its ...   \n",
       "57  when my baby left me i cried for an entire yea...   \n",
       "52  je taime mon amour je taime tant cest dur de n...   \n",
       "53  this is where she finds herself alone and empt...   \n",
       "54  i dont want to be a bad person anymore a casua...   \n",
       "60  nsfw music video music video music video nsfw ...   \n",
       "67  dont look now its the bte noir playin flute so...   \n",
       "\n",
       "                 ordered_album  \n",
       "96                  Situation   \n",
       "10                20 Odd Years  \n",
       "1                 20 Odd Years  \n",
       "2                 20 Odd Years  \n",
       "3                 20 Odd Years  \n",
       "4                 20 Odd Years  \n",
       "5                 20 Odd Years  \n",
       "6                 20 Odd Years  \n",
       "7                 20 Odd Years  \n",
       "8                 20 Odd Years  \n",
       "9                 20 Odd Years  \n",
       "11                20 Odd Years  \n",
       "0                 20 Odd Years  \n",
       "55  Neverlove (Deluxe Edition)  \n",
       "68  Neverlove (Deluxe Edition)  \n",
       "66  Neverlove (Deluxe Edition)  \n",
       "65  Neverlove (Deluxe Edition)  \n",
       "64  Neverlove (Deluxe Edition)  \n",
       "63  Neverlove (Deluxe Edition)  \n",
       "62  Neverlove (Deluxe Edition)  \n",
       "56  Neverlove (Deluxe Edition)  \n",
       "61  Neverlove (Deluxe Edition)  \n",
       "59  Neverlove (Deluxe Edition)  \n",
       "58  Neverlove (Deluxe Edition)  \n",
       "57  Neverlove (Deluxe Edition)  \n",
       "52  Neverlove (Deluxe Edition)  \n",
       "53  Neverlove (Deluxe Edition)  \n",
       "54  Neverlove (Deluxe Edition)  \n",
       "60  Neverlove (Deluxe Edition)  \n",
       "67  Neverlove (Deluxe Edition)  "
      ],
      "text/html": "<div>\n<style scoped>\n    .dataframe tbody tr th:only-of-type {\n        vertical-align: middle;\n    }\n\n    .dataframe tbody tr th {\n        vertical-align: top;\n    }\n\n    .dataframe thead th {\n        text-align: right;\n    }\n</style>\n<table border=\"1\" class=\"dataframe\">\n  <thead>\n    <tr style=\"text-align: right;\">\n      <th></th>\n      <th>title</th>\n      <th>release_date</th>\n      <th>album</th>\n      <th>lyrics</th>\n      <th>ordered_album</th>\n    </tr>\n  </thead>\n  <tbody>\n    <tr>\n      <th>96</th>\n      <td>The Outskirters</td>\n      <td></td>\n      <td>Situation</td>\n      <td>young and attractive quote unquote old soul do...</td>\n      <td>Situation</td>\n    </tr>\n    <tr>\n      <th>10</th>\n      <td>Superstars Don’t Love</td>\n      <td></td>\n      <td>20 Odd Years</td>\n      <td>michael jackson died today cycles action hidea...</td>\n      <td>20 Odd Years</td>\n    </tr>\n    <tr>\n      <th>1</th>\n      <td>Cold Steel Drum</td>\n      <td>2011-01-01</td>\n      <td>20 Odd Years</td>\n      <td>i lay down for you in black and blue life here...</td>\n      <td>20 Odd Years</td>\n    </tr>\n    <tr>\n      <th>2</th>\n      <td>Zombie Delight</td>\n      <td>2011-02-07</td>\n      <td>20 Odd Years</td>\n      <td>zombie delight zombie delight zombies are comi...</td>\n      <td>20 Odd Years</td>\n    </tr>\n    <tr>\n      <th>3</th>\n      <td>She Said Yes</td>\n      <td>2011-01-01</td>\n      <td>20 Odd Years</td>\n      <td>she wrote back too alone a single pair of shoo...</td>\n      <td>20 Odd Years</td>\n    </tr>\n    <tr>\n      <th>4</th>\n      <td>BCC</td>\n      <td>2011-01-01</td>\n      <td>20 Odd Years</td>\n      <td>bcc the add we dont have much time you see bcc...</td>\n      <td>20 Odd Years</td>\n    </tr>\n    <tr>\n      <th>5</th>\n      <td>Tears Of Your Heart</td>\n      <td>2011-02-07</td>\n      <td>20 Odd Years</td>\n      <td>french singing  age is beauty bewildered young...</td>\n      <td>20 Odd Years</td>\n    </tr>\n    <tr>\n      <th>6</th>\n      <td>Final Approach</td>\n      <td>2011-01-01</td>\n      <td>20 Odd Years</td>\n      <td>the sun is always shining bright at thirty tho...</td>\n      <td>20 Odd Years</td>\n    </tr>\n    <tr>\n      <th>7</th>\n      <td>Paper Airplane</td>\n      <td>2011-01-01</td>\n      <td>20 Odd Years</td>\n      <td>down by the lake you saw me and you knew i was...</td>\n      <td>20 Odd Years</td>\n    </tr>\n    <tr>\n      <th>8</th>\n      <td>Gee Whiz</td>\n      <td></td>\n      <td>20 Odd Years</td>\n      <td>tell me what is it is gee whiz i dont think i ...</td>\n      <td>20 Odd Years</td>\n    </tr>\n    <tr>\n      <th>9</th>\n      <td>Whispers Of The Waves</td>\n      <td>2011-01-01</td>\n      <td>20 Odd Years</td>\n      <td>i am the deck you are the sea i am the light o...</td>\n      <td>20 Odd Years</td>\n    </tr>\n    <tr>\n      <th>11</th>\n      <td>Stop</td>\n      <td>2011-01-01</td>\n      <td>20 Odd Years</td>\n      <td>stop you need to listen just let me show you a...</td>\n      <td>20 Odd Years</td>\n    </tr>\n    <tr>\n      <th>0</th>\n      <td>Who By Fire</td>\n      <td></td>\n      <td>20 Odd Years</td>\n      <td>and who by fire who by water who in the sunshi...</td>\n      <td>20 Odd Years</td>\n    </tr>\n    <tr>\n      <th>55</th>\n      <td>Danger And Play</td>\n      <td>2014-09-23</td>\n      <td>Neverlove (Deluxe Edition)</td>\n      <td>heres a man whos come apart pieces missing unc...</td>\n      <td>Neverlove (Deluxe Edition)</td>\n    </tr>\n    <tr>\n      <th>68</th>\n      <td>That’s The Way Love Dies</td>\n      <td>2014-09-30</td>\n      <td>Neverlove (Deluxe Edition)</td>\n      <td>thats the way love dies it starts when youre a...</td>\n      <td>Neverlove (Deluxe Edition)</td>\n    </tr>\n    <tr>\n      <th>66</th>\n      <td>Love Will Fuck You Up</td>\n      <td>2014-09-30</td>\n      <td>Neverlove (Deluxe Edition)</td>\n      <td>i live in an ugly city nowhere else id rather ...</td>\n      <td>Neverlove (Deluxe Edition)</td>\n    </tr>\n    <tr>\n      <th>65</th>\n      <td>Ugly Bridge</td>\n      <td>2014-09-30</td>\n      <td>Neverlove (Deluxe Edition)</td>\n      <td>oh damn i wish that i were dead sleeping somew...</td>\n      <td>Neverlove (Deluxe Edition)</td>\n    </tr>\n    <tr>\n      <th>64</th>\n      <td>Heart of Stone</td>\n      <td>2014-08-21</td>\n      <td>Neverlove (Deluxe Edition)</td>\n      <td>cant break a heart of stone no youre only goin...</td>\n      <td>Neverlove (Deluxe Edition)</td>\n    </tr>\n    <tr>\n      <th>63</th>\n      <td>Gates Of Hell</td>\n      <td>2014-09-30</td>\n      <td>Neverlove (Deluxe Edition)</td>\n      <td>now im feeling devilish soon were going to set...</td>\n      <td>Neverlove (Deluxe Edition)</td>\n    </tr>\n    <tr>\n      <th>62</th>\n      <td>Only War</td>\n      <td>2014-06-25</td>\n      <td>Neverlove (Deluxe Edition)</td>\n      <td>kiss it better stop the bleeding she attacks h...</td>\n      <td>Neverlove (Deluxe Edition)</td>\n    </tr>\n    <tr>\n      <th>56</th>\n      <td>Fairytales</td>\n      <td>2013-03-13</td>\n      <td>Neverlove (Deluxe Edition)</td>\n      <td>i dont believe in fairytales in love and other...</td>\n      <td>Neverlove (Deluxe Edition)</td>\n    </tr>\n    <tr>\n      <th>61</th>\n      <td>Neverlove</td>\n      <td>2014-09-30</td>\n      <td>Neverlove (Deluxe Edition)</td>\n      <td>back in the game on the prowl after noon looki...</td>\n      <td>Neverlove (Deluxe Edition)</td>\n    </tr>\n    <tr>\n      <th>59</th>\n      <td>A Case For Us</td>\n      <td>2014-09-30</td>\n      <td>Neverlove (Deluxe Edition)</td>\n      <td>maybe theres a place for us to go somewhere we...</td>\n      <td>Neverlove (Deluxe Edition)</td>\n    </tr>\n    <tr>\n      <th>58</th>\n      <td>Super Pretty Naughty</td>\n      <td>2014-09-02</td>\n      <td>Neverlove (Deluxe Edition)</td>\n      <td>fancy time naked saturday wild stylin now its ...</td>\n      <td>Neverlove (Deluxe Edition)</td>\n    </tr>\n    <tr>\n      <th>57</th>\n      <td>Superhero In My Heart</td>\n      <td>2014-09-30</td>\n      <td>Neverlove (Deluxe Edition)</td>\n      <td>when my baby left me i cried for an entire yea...</td>\n      <td>Neverlove (Deluxe Edition)</td>\n    </tr>\n    <tr>\n      <th>52</th>\n      <td>Je T’aime Mon Amour</td>\n      <td>2014-09-29</td>\n      <td>Neverlove (Deluxe Edition)</td>\n      <td>je taime mon amour je taime tant cest dur de n...</td>\n      <td>Neverlove (Deluxe Edition)</td>\n    </tr>\n    <tr>\n      <th>53</th>\n      <td>Roses In The Rain</td>\n      <td>2014-09-09</td>\n      <td>Neverlove (Deluxe Edition)</td>\n      <td>this is where she finds herself alone and empt...</td>\n      <td>Neverlove (Deluxe Edition)</td>\n    </tr>\n    <tr>\n      <th>54</th>\n      <td>Baby Blanket</td>\n      <td>2014-09-30</td>\n      <td>Neverlove (Deluxe Edition)</td>\n      <td>i dont want to be a bad person anymore a casua...</td>\n      <td>Neverlove (Deluxe Edition)</td>\n    </tr>\n    <tr>\n      <th>60</th>\n      <td>NSFW Music Video</td>\n      <td>2014-09-30</td>\n      <td>Neverlove (Deluxe Edition)</td>\n      <td>nsfw music video music video music video nsfw ...</td>\n      <td>Neverlove (Deluxe Edition)</td>\n    </tr>\n    <tr>\n      <th>67</th>\n      <td>She Fades</td>\n      <td>2014-09-16</td>\n      <td>Neverlove (Deluxe Edition)</td>\n      <td>dont look now its the bte noir playin flute so...</td>\n      <td>Neverlove (Deluxe Edition)</td>\n    </tr>\n  </tbody>\n</table>\n</div>"
     },
     "metadata": {},
     "execution_count": 10
    }
   ],
   "source": [
    "# sort albums by album release\n",
    "buck_albums = [\n",
    "    'Game Tight',\n",
    "    'Year Zero',\n",
    "    'Weirdo Magnet',\n",
    "    'Language Arts',\n",
    "    'Vertex',\n",
    "    'Man Overboard',\n",
    "    'Synesthesia',\n",
    "    'Square',\n",
    "    'Talkin’ Honky Blues',\n",
    "    'Secret House Against The World',\n",
    "    'Situation ', # space is there on purpose\n",
    "    '20 Odd Years',\n",
    "    'Laundromat Boogie',\n",
    "    'Neverlove (Deluxe Edition)'\n",
    "]\n",
    "\n",
    "albums_to_remove = [\n",
    "    '20 Odd Years: Volume 4 - Ostranenie',\n",
    "    'Dirtbike 3',\n",
    "    'Dirtywork E.P.',\n",
    "    'I Dream Of Love: Live And In Private',\n",
    "    'Boy-Girl Fight',\n",
    "    'Pole-Axed (More Rarities)',\n",
    "    'Year Of The Carnivore Soundtrack',\n",
    "    'Climbing Up a Mountain With a Basket Full of Fruit',\n",
    "    'Dirtbike',\n",
    "    'Skratch Bastid Presents: Cretin Hip Hop Vol. 1 (Buck 65 Mixtape)',\n",
    "    'Weirdo Magnet', # yes this is a studio album, but there's only one song in it and it's full of notes\n",
    "    'This Right Here is Buck 65', # best hits album\n",
    "    'Giga Single',\n",
    "    'Dark Was the Night',\n",
    "    '', # removes songs with no album\n",
    "]\n",
    "\n",
    "def chron_order_albums(songs, albums):\n",
    "    songs['ordered_album'] = pd.Categorical(\n",
    "        songs['album'], \n",
    "        categories=albums, \n",
    "        ordered=True\n",
    "    )\n",
    "\n",
    "    return songs.sort_values(by='ordered_album')\n",
    "\n",
    "\n",
    "songs = chron_order_albums(songs, buck_albums)\n",
    "\n",
    "for alb in albums_to_remove:\n",
    "    remove_bool = songs['album'] == alb\n",
    "    songs = songs[~remove_bool]\n",
    "\n",
    "songs.tail(30)\n"
   ]
  },
  {
   "source": [
    "# Data Cleaning\n",
    "\n",
    "Earlier on, we did a first round of data cleaning: removing special characters, lowercasing all words, etc. However, a second round was needed to remove rows. The original methodology only included studio albums unless there weren't enough for 35,000 words, in which case other materials were considered. This isn't the case for Buck 65, so I've had to remove some songs. I did so based on the `album` column, and the removals fell into roughly three categories:\n",
    "\n",
    "1. Mixtapes, singles and unreleased material: This is most of the removal list, and while it unfortunalely removes some of my favorite material (RIP Dirtbike), it was important to take it out to be consistant with the original methodology.\n",
    "\n",
    "2. 'Problem Albums': There were two of these: *Weirdo Magnet* and *This Right Here is Buck 65*. *Weirdo Magnet* had to go because the lyrics were woefully incomplete (only one song was on Genius) and the lyrics for it had comments in it. *This Right Here is Buck 65* is a best of album, so it inflated the total word count without adding any unique words, so it made more sense to remove it.\n",
    "\n",
    "3. Songs with no album: a lot of these fall under mixtapes, singles, and unreleased material, but just weren't marked as such. There may have been some valuable songs in there (e.g. more of *Weirdo Magnet*) but going through and manually addojg albums was going to be a pain, so I decided to exclude them."
   ],
   "cell_type": "markdown",
   "metadata": {}
  },
  {
   "cell_type": "code",
   "execution_count": 11,
   "metadata": {
    "tags": []
   },
   "outputs": [
    {
     "output_type": "stream",
     "name": "stdout",
     "text": [
      "43052\n"
     ]
    },
    {
     "output_type": "execute_result",
     "data": {
      "text/plain": [
       "6557"
      ]
     },
     "metadata": {},
     "execution_count": 11
    }
   ],
   "source": [
    "def get_unique_lyrics(tokens):\n",
    "    return len(set(tokens))\n",
    "\n",
    "def tokenize_lyrics(songs):\n",
    "    lyrics = songs['lyrics']\n",
    "    lyric_string = lyrics.str.cat()\n",
    "    return nltk.word_tokenize(lyric_string)\n",
    "\n",
    "lyric_tokens = tokenize_lyrics(songs)\n",
    "print('Total Lyrics'len(lyric_tokens))\n",
    "# get unique words in first 35,000 lyrics\n",
    "limited_tokens = lyric_tokens[:34999]\n",
    "print('First 35,000 Unique Lyrics:', get_unique_lyrics(limited_tokens))\n",
    "\n"
   ]
  },
  {
   "source": [
    "# First Conclusion\n",
    "\n",
    "The above cell gives us Buck 65's vocabulary according to Daniel's first 35,000 word methodology: 6,557 unique words. This puts him in a solid 3rd place. Ahead of Jedi Mind Tricks at 6,424, but still well behind Busdriver and Aesop Rock. While this gives us our answer, just for fun, I wanted to see how sensitive that result would be to changing the sample.\n"
   ],
   "cell_type": "markdown",
   "metadata": {}
  },
  {
   "source": [
    "#all lyrics\n",
    "print('Total 35,000 Unique Lyrics:'get_unique_lyrics(lyric_tokens))"
   ],
   "cell_type": "code",
   "metadata": {},
   "execution_count": 12,
   "outputs": [
    {
     "output_type": "stream",
     "name": "stdout",
     "text": [
      "7521\n"
     ]
    }
   ]
  },
  {
   "cell_type": "code",
   "execution_count": 13,
   "metadata": {},
   "outputs": [
    {
     "output_type": "stream",
     "name": "stdout",
     "text": [
      "6537\n"
     ]
    }
   ],
   "source": [
    "# last words\n",
    "last_tokens = lyric_tokens[-35000:]\n",
    "print('Last 35,000 Unique Lyrics:', get_unique_lyrics(last_tokens))"
   ]
  },
  {
   "cell_type": "code",
   "execution_count": 14,
   "metadata": {},
   "outputs": [
    {
     "output_type": "stream",
     "name": "stdout",
     "text": [
      "[6644, 6653, 6666, 6677, 6678, 6682, 6684, 6707, 6713, 6717]\n6682.1\n"
     ]
    }
   ],
   "source": [
    "# random samplings\n",
    "from random import sample\n",
    "from statistics import mean\n",
    "\n",
    "def sample_lyrics(songs):\n",
    "    counter = 0\n",
    "    results = []\n",
    "    while counter < 10:\n",
    "        lyric_sample = sample(lyric_tokens, 35000)\n",
    "        uniques = get_unique_lyrics(lyric_sample)\n",
    "        results.append(uniques)\n",
    "        counter += 1\n",
    "    return results\n",
    "\n",
    "sample_results = sample_lyrics(songs)\n",
    "print('Random 35,000 Unique Lyrics:')\n",
    "print(sorted(sample_results))\n",
    "print(mean(sample_results))"
   ]
  },
  {
   "source": [
    "# Second Conclusion\n",
    "\n",
    "When using his whole corpus of 43,052 words, we find 7,521 unique ones. Using his last 35,000 words gets us 6,557 unique words, implying a slight decrease in vocabulary over time. I'd assume that a lot of that is due to the inclusion of *Neverlove*, which was a far poppier, less dense-sounding album than many of his early works. Finally, using a series of random samplings of 35,000 words, we get results that tend to average out in the high 6,600s, but reaching down to the 6,590s and up to the low 6,700s.\n",
    "\n",
    "While this is another good result, I have a hypothesis that these numbers will all go up noticably if I include two (especially poetic IMO) albums which he recorded as part of a collaboration with DJ Greetings from Tuskan."
   ],
   "cell_type": "markdown",
   "metadata": {}
  },
  {
   "cell_type": "code",
   "execution_count": 15,
   "metadata": {},
   "outputs": [],
   "source": [
    "# this only needs to be run if Lyrics_BikeForThree.json doesn't exist\n",
    "# it will also take a while\n",
    "# bike = genius.search_artist(\"Bike for Three!\")\n",
    "# bike.save_lyrics()"
   ]
  },
  {
   "cell_type": "code",
   "execution_count": 16,
   "metadata": {},
   "outputs": [
    {
     "output_type": "execute_result",
     "data": {
      "text/plain": [
       "                                 title release_date  \\\n",
       "0                   Lazarus Phenomenon   2009-05-26   \n",
       "1  Always I Will Miss You. Always You.   2009-05-26   \n",
       "2              There Is Only One Of Us   2009-05-26   \n",
       "3       All There Is to Say About Love   2009-05-26   \n",
       "4                          Sublimation   2014-02-11   \n",
       "\n",
       "                                               album  \\\n",
       "0  {'api_path': '/albums/24905', 'cover_art_url':...   \n",
       "1  {'api_path': '/albums/24905', 'cover_art_url':...   \n",
       "2  {'api_path': '/albums/24905', 'cover_art_url':...   \n",
       "3  {'api_path': '/albums/24905', 'cover_art_url':...   \n",
       "4  {'api_path': '/albums/133397', 'cover_art_url'...   \n",
       "\n",
       "                                              lyrics  \n",
       "0  (Here, it's perfectly dark)\\n(Here, it's perfe...  \n",
       "1  Always, I will miss you, always you\\nAlways, I...  \n",
       "2  Whispering ghosts, seduction unlikely\\nJust ou...  \n",
       "3  Dragonflies and the agonizing blast from a gun...  \n",
       "4  I don't know how to love myself, I'm hoping yo...  "
      ],
      "text/html": "<div>\n<style scoped>\n    .dataframe tbody tr th:only-of-type {\n        vertical-align: middle;\n    }\n\n    .dataframe tbody tr th {\n        vertical-align: top;\n    }\n\n    .dataframe thead th {\n        text-align: right;\n    }\n</style>\n<table border=\"1\" class=\"dataframe\">\n  <thead>\n    <tr style=\"text-align: right;\">\n      <th></th>\n      <th>title</th>\n      <th>release_date</th>\n      <th>album</th>\n      <th>lyrics</th>\n    </tr>\n  </thead>\n  <tbody>\n    <tr>\n      <th>0</th>\n      <td>Lazarus Phenomenon</td>\n      <td>2009-05-26</td>\n      <td>{'api_path': '/albums/24905', 'cover_art_url':...</td>\n      <td>(Here, it's perfectly dark)\\n(Here, it's perfe...</td>\n    </tr>\n    <tr>\n      <th>1</th>\n      <td>Always I Will Miss You. Always You.</td>\n      <td>2009-05-26</td>\n      <td>{'api_path': '/albums/24905', 'cover_art_url':...</td>\n      <td>Always, I will miss you, always you\\nAlways, I...</td>\n    </tr>\n    <tr>\n      <th>2</th>\n      <td>There Is Only One Of Us</td>\n      <td>2009-05-26</td>\n      <td>{'api_path': '/albums/24905', 'cover_art_url':...</td>\n      <td>Whispering ghosts, seduction unlikely\\nJust ou...</td>\n    </tr>\n    <tr>\n      <th>3</th>\n      <td>All There Is to Say About Love</td>\n      <td>2009-05-26</td>\n      <td>{'api_path': '/albums/24905', 'cover_art_url':...</td>\n      <td>Dragonflies and the agonizing blast from a gun...</td>\n    </tr>\n    <tr>\n      <th>4</th>\n      <td>Sublimation</td>\n      <td>2014-02-11</td>\n      <td>{'api_path': '/albums/133397', 'cover_art_url'...</td>\n      <td>I don't know how to love myself, I'm hoping yo...</td>\n    </tr>\n  </tbody>\n</table>\n</div>"
     },
     "metadata": {},
     "execution_count": 16
    }
   ],
   "source": [
    "bike = make_initial_dataframe('Lyrics_BikeForThree.json')\n",
    "bike.head()"
   ]
  },
  {
   "cell_type": "code",
   "execution_count": 17,
   "metadata": {},
   "outputs": [
    {
     "output_type": "execute_result",
     "data": {
      "text/plain": [
       "                                 title release_date                   album  \\\n",
       "0                   Lazarus Phenomenon   2009-05-26  More Heart than Brains   \n",
       "1  Always I Will Miss You. Always You.   2009-05-26  More Heart than Brains   \n",
       "2              There Is Only One Of Us   2009-05-26  More Heart than Brains   \n",
       "3       All There Is to Say About Love   2009-05-26  More Heart than Brains   \n",
       "4                          Sublimation   2014-02-11        So Much Forever    \n",
       "\n",
       "                                              lyrics  \n",
       "0  (Here, it's perfectly dark)\\n(Here, it's perfe...  \n",
       "1  Always, I will miss you, always you\\nAlways, I...  \n",
       "2  Whispering ghosts, seduction unlikely\\nJust ou...  \n",
       "3  Dragonflies and the agonizing blast from a gun...  \n",
       "4  I don't know how to love myself, I'm hoping yo...  "
      ],
      "text/html": "<div>\n<style scoped>\n    .dataframe tbody tr th:only-of-type {\n        vertical-align: middle;\n    }\n\n    .dataframe tbody tr th {\n        vertical-align: top;\n    }\n\n    .dataframe thead th {\n        text-align: right;\n    }\n</style>\n<table border=\"1\" class=\"dataframe\">\n  <thead>\n    <tr style=\"text-align: right;\">\n      <th></th>\n      <th>title</th>\n      <th>release_date</th>\n      <th>album</th>\n      <th>lyrics</th>\n    </tr>\n  </thead>\n  <tbody>\n    <tr>\n      <th>0</th>\n      <td>Lazarus Phenomenon</td>\n      <td>2009-05-26</td>\n      <td>More Heart than Brains</td>\n      <td>(Here, it's perfectly dark)\\n(Here, it's perfe...</td>\n    </tr>\n    <tr>\n      <th>1</th>\n      <td>Always I Will Miss You. Always You.</td>\n      <td>2009-05-26</td>\n      <td>More Heart than Brains</td>\n      <td>Always, I will miss you, always you\\nAlways, I...</td>\n    </tr>\n    <tr>\n      <th>2</th>\n      <td>There Is Only One Of Us</td>\n      <td>2009-05-26</td>\n      <td>More Heart than Brains</td>\n      <td>Whispering ghosts, seduction unlikely\\nJust ou...</td>\n    </tr>\n    <tr>\n      <th>3</th>\n      <td>All There Is to Say About Love</td>\n      <td>2009-05-26</td>\n      <td>More Heart than Brains</td>\n      <td>Dragonflies and the agonizing blast from a gun...</td>\n    </tr>\n    <tr>\n      <th>4</th>\n      <td>Sublimation</td>\n      <td>2014-02-11</td>\n      <td>So Much Forever</td>\n      <td>I don't know how to love myself, I'm hoping yo...</td>\n    </tr>\n  </tbody>\n</table>\n</div>"
     },
     "metadata": {},
     "execution_count": 17
    }
   ],
   "source": [
    "bike = format_albums(bike)\n",
    "bike.head()"
   ]
  },
  {
   "cell_type": "code",
   "execution_count": 18,
   "metadata": {},
   "outputs": [
    {
     "output_type": "execute_result",
     "data": {
      "text/plain": [
       "                                  title release_date                   album  \\\n",
       "0                    Lazarus Phenomenon   2009-05-26  More Heart than Brains   \n",
       "23                               Ending   2009-05-26  More Heart than Brains   \n",
       "21                        First Embrace   2009-05-26  More Heart than Brains   \n",
       "18                One More Time Forever   2009-05-26  More Heart than Brains   \n",
       "16                             MC Space   2009-05-26  More Heart than Brains   \n",
       "15                        The Departure   2009-05-26  More Heart than Brains   \n",
       "13               More Heart Than Brains   2009-05-26  More Heart than Brains   \n",
       "11              Can Feel Love (anymore)   2009-05-26  More Heart than Brains   \n",
       "10                     Let’s Never Meet   2009-05-26  More Heart than Brains   \n",
       "25                            Beginning   2009-05-26  More Heart than Brains   \n",
       "7                          Nightdriving   2009-05-26  More Heart than Brains   \n",
       "5                           No Idea How   2009-05-26  More Heart than Brains   \n",
       "3        All There Is to Say About Love   2009-05-26  More Heart than Brains   \n",
       "2               There Is Only One Of Us   2009-05-26  More Heart than Brains   \n",
       "1   Always I Will Miss You. Always You.   2009-05-26  More Heart than Brains   \n",
       "8                         Heart as Hell   2014-02-11        So Much Forever    \n",
       "24                                Intro   2014-02-11        So Much Forever    \n",
       "6                 You Can Be Everything   2014-02-11        So Much Forever    \n",
       "14                            Full Moon   2014-02-11        So Much Forever    \n",
       "4                           Sublimation   2014-02-11        So Much Forever    \n",
       "\n",
       "                                               lyrics  \n",
       "0   (Here, it's perfectly dark)\\n(Here, it's perfe...  \n",
       "23                                                     \n",
       "21  (First embrace)\\nPouring rain, roaring pain, g...  \n",
       "18  Rioting quietly, we started fires and threw br...  \n",
       "16  Where I come from, we never heard of bite\\nWe ...  \n",
       "15  Without everything else, heavily and only-less...  \n",
       "13  Dark promises\\nDark mysteries\\nMemories, dista...  \n",
       "11  There's a baby girl on the way, blow your horn...  \n",
       "10  Somewhere unseen and under the covers deep\\nTh...  \n",
       "25                                                     \n",
       "7   Night driving, faced my wheel\\nBoth of my legs...  \n",
       "5   Steady, unbreakable, consistent, fast\\nDirt, e...  \n",
       "3   Dragonflies and the agonizing blast from a gun...  \n",
       "2   Whispering ghosts, seduction unlikely\\nJust ou...  \n",
       "1   Always, I will miss you, always you\\nAlways, I...  \n",
       "8   I have two hearts, and one of them is hard as ...  \n",
       "24                                                     \n",
       "6   Sun and the rain, one and the same, builder\\nD...  \n",
       "14  How did it bleed? It bled like fire\\nHow did i...  \n",
       "4   I don't know how to love myself, I'm hoping yo...  "
      ],
      "text/html": "<div>\n<style scoped>\n    .dataframe tbody tr th:only-of-type {\n        vertical-align: middle;\n    }\n\n    .dataframe tbody tr th {\n        vertical-align: top;\n    }\n\n    .dataframe thead th {\n        text-align: right;\n    }\n</style>\n<table border=\"1\" class=\"dataframe\">\n  <thead>\n    <tr style=\"text-align: right;\">\n      <th></th>\n      <th>title</th>\n      <th>release_date</th>\n      <th>album</th>\n      <th>lyrics</th>\n    </tr>\n  </thead>\n  <tbody>\n    <tr>\n      <th>0</th>\n      <td>Lazarus Phenomenon</td>\n      <td>2009-05-26</td>\n      <td>More Heart than Brains</td>\n      <td>(Here, it's perfectly dark)\\n(Here, it's perfe...</td>\n    </tr>\n    <tr>\n      <th>23</th>\n      <td>Ending</td>\n      <td>2009-05-26</td>\n      <td>More Heart than Brains</td>\n      <td></td>\n    </tr>\n    <tr>\n      <th>21</th>\n      <td>First Embrace</td>\n      <td>2009-05-26</td>\n      <td>More Heart than Brains</td>\n      <td>(First embrace)\\nPouring rain, roaring pain, g...</td>\n    </tr>\n    <tr>\n      <th>18</th>\n      <td>One More Time Forever</td>\n      <td>2009-05-26</td>\n      <td>More Heart than Brains</td>\n      <td>Rioting quietly, we started fires and threw br...</td>\n    </tr>\n    <tr>\n      <th>16</th>\n      <td>MC Space</td>\n      <td>2009-05-26</td>\n      <td>More Heart than Brains</td>\n      <td>Where I come from, we never heard of bite\\nWe ...</td>\n    </tr>\n    <tr>\n      <th>15</th>\n      <td>The Departure</td>\n      <td>2009-05-26</td>\n      <td>More Heart than Brains</td>\n      <td>Without everything else, heavily and only-less...</td>\n    </tr>\n    <tr>\n      <th>13</th>\n      <td>More Heart Than Brains</td>\n      <td>2009-05-26</td>\n      <td>More Heart than Brains</td>\n      <td>Dark promises\\nDark mysteries\\nMemories, dista...</td>\n    </tr>\n    <tr>\n      <th>11</th>\n      <td>Can Feel Love (anymore)</td>\n      <td>2009-05-26</td>\n      <td>More Heart than Brains</td>\n      <td>There's a baby girl on the way, blow your horn...</td>\n    </tr>\n    <tr>\n      <th>10</th>\n      <td>Let’s Never Meet</td>\n      <td>2009-05-26</td>\n      <td>More Heart than Brains</td>\n      <td>Somewhere unseen and under the covers deep\\nTh...</td>\n    </tr>\n    <tr>\n      <th>25</th>\n      <td>Beginning</td>\n      <td>2009-05-26</td>\n      <td>More Heart than Brains</td>\n      <td></td>\n    </tr>\n    <tr>\n      <th>7</th>\n      <td>Nightdriving</td>\n      <td>2009-05-26</td>\n      <td>More Heart than Brains</td>\n      <td>Night driving, faced my wheel\\nBoth of my legs...</td>\n    </tr>\n    <tr>\n      <th>5</th>\n      <td>No Idea How</td>\n      <td>2009-05-26</td>\n      <td>More Heart than Brains</td>\n      <td>Steady, unbreakable, consistent, fast\\nDirt, e...</td>\n    </tr>\n    <tr>\n      <th>3</th>\n      <td>All There Is to Say About Love</td>\n      <td>2009-05-26</td>\n      <td>More Heart than Brains</td>\n      <td>Dragonflies and the agonizing blast from a gun...</td>\n    </tr>\n    <tr>\n      <th>2</th>\n      <td>There Is Only One Of Us</td>\n      <td>2009-05-26</td>\n      <td>More Heart than Brains</td>\n      <td>Whispering ghosts, seduction unlikely\\nJust ou...</td>\n    </tr>\n    <tr>\n      <th>1</th>\n      <td>Always I Will Miss You. Always You.</td>\n      <td>2009-05-26</td>\n      <td>More Heart than Brains</td>\n      <td>Always, I will miss you, always you\\nAlways, I...</td>\n    </tr>\n    <tr>\n      <th>8</th>\n      <td>Heart as Hell</td>\n      <td>2014-02-11</td>\n      <td>So Much Forever</td>\n      <td>I have two hearts, and one of them is hard as ...</td>\n    </tr>\n    <tr>\n      <th>24</th>\n      <td>Intro</td>\n      <td>2014-02-11</td>\n      <td>So Much Forever</td>\n      <td></td>\n    </tr>\n    <tr>\n      <th>6</th>\n      <td>You Can Be Everything</td>\n      <td>2014-02-11</td>\n      <td>So Much Forever</td>\n      <td>Sun and the rain, one and the same, builder\\nD...</td>\n    </tr>\n    <tr>\n      <th>14</th>\n      <td>Full Moon</td>\n      <td>2014-02-11</td>\n      <td>So Much Forever</td>\n      <td>How did it bleed? It bled like fire\\nHow did i...</td>\n    </tr>\n    <tr>\n      <th>4</th>\n      <td>Sublimation</td>\n      <td>2014-02-11</td>\n      <td>So Much Forever</td>\n      <td>I don't know how to love myself, I'm hoping yo...</td>\n    </tr>\n  </tbody>\n</table>\n</div>"
     },
     "metadata": {},
     "execution_count": 18
    }
   ],
   "source": [
    "bike.sort_values(by='album', inplace=True)\n",
    "bike.head(20)"
   ]
  },
  {
   "cell_type": "code",
   "execution_count": 19,
   "metadata": {},
   "outputs": [
    {
     "output_type": "stream",
     "name": "stderr",
     "text": [
      "/root/miniconda3/envs/buck65/lib/python3.9/site-packages/pandas/core/strings/accessor.py:101: UserWarning: This pattern has match groups. To actually get the groups, use str.extract.\n  return func(self, *args, **kwargs)\n<ipython-input-1-8f6cb536841b>:42: FutureWarning: The default value of regex will change from True to False in a future version.\n  songs['lyrics'] = songs['lyrics'].str.replace('[\\n\\t]', ' ')\n<ipython-input-1-8f6cb536841b>:44: FutureWarning: The default value of regex will change from True to False in a future version.\n  songs['lyrics'] = songs['lyrics'].str.replace('[-–—]', ' ')\n<ipython-input-1-8f6cb536841b>:46: FutureWarning: The default value of regex will change from True to False in a future version.\n  songs['lyrics'] = songs['lyrics'].str.replace('[^a-zA-Z0-9 ]', '')\n"
     ]
    }
   ],
   "source": [
    "# clean data\n",
    "bike = clean_lyrics(bike)\n",
    "\n",
    "# save\n",
    "bike.to_csv('bike.tsv', sep=\"\\t\", index=False)"
   ]
  },
  {
   "cell_type": "code",
   "execution_count": 20,
   "metadata": {},
   "outputs": [
    {
     "output_type": "execute_result",
     "data": {
      "text/plain": [
       "8195"
      ]
     },
     "metadata": {},
     "execution_count": 20
    }
   ],
   "source": [
    "bike = pd.read_csv('bike.tsv', sep=\"\\t\", keep_default_na=False)\n",
    "bike_tokens = tokenize_lyrics(bike)\n",
    "lyric_tokens += bike_tokens\n",
    "# get updated total unique lyrics\n",
    "get_unique_lyrics(lyric_tokens)\n",
    "\n"
   ]
  },
  {
   "cell_type": "code",
   "execution_count": 21,
   "metadata": {},
   "outputs": [],
   "source": [
    "# only run this once per kernel\n",
    "songs = songs.append(bike)"
   ]
  },
  {
   "cell_type": "code",
   "execution_count": 22,
   "metadata": {},
   "outputs": [
    {
     "output_type": "execute_result",
     "data": {
      "text/plain": [
       "                                  title release_date  \\\n",
       "2                         First Embrace   2009-05-26   \n",
       "0                    Lazarus Phenomenon   2009-05-26   \n",
       "1                                Ending   2009-05-26   \n",
       "3                 One More Time Forever   2009-05-26   \n",
       "4                              MC Space   2009-05-26   \n",
       "13              There Is Only One Of Us   2009-05-26   \n",
       "7               Can Feel Love (anymore)   2009-05-26   \n",
       "14  Always I Will Miss You. Always You.   2009-05-26   \n",
       "6                More Heart Than Brains   2009-05-26   \n",
       "5                         The Departure   2009-05-26   \n",
       "9                 Whispers Of The Waves   2011-01-01   \n",
       "10                Superstars Don’t Love                \n",
       "1                       Cold Steel Drum   2011-01-01   \n",
       "2                        Zombie Delight   2011-02-07   \n",
       "3                          She Said Yes   2011-01-01   \n",
       "4                                   BCC   2011-01-01   \n",
       "5                   Tears Of Your Heart   2011-02-07   \n",
       "6                        Final Approach   2011-01-01   \n",
       "8                              Gee Whiz                \n",
       "7                        Paper Airplane   2011-01-01   \n",
       "11                                 Stop   2011-01-01   \n",
       "0                           Who By Fire                \n",
       "23                     The Last Romance   2014-02-11   \n",
       "15                        Heart as Hell   2014-02-11   \n",
       "16                                Intro   2014-02-11   \n",
       "17                You Can Be Everything   2014-02-11   \n",
       "18                            Full Moon   2014-02-11   \n",
       "19                          Sublimation   2014-02-11   \n",
       "20                                Agony   2014-02-11   \n",
       "22                   The Muse Inside Me   2014-02-11   \n",
       "21         Successful With Heavy Losses   2014-02-11   \n",
       "25                        Ethereal Love   2014-02-11   \n",
       "24                          Wolf Sister   2014-02-11   \n",
       "60                     NSFW Music Video   2014-09-30   \n",
       "55                      Danger And Play   2014-09-23   \n",
       "68             That’s The Way Love Dies   2014-09-30   \n",
       "66                Love Will Fuck You Up   2014-09-30   \n",
       "65                          Ugly Bridge   2014-09-30   \n",
       "63                        Gates Of Hell   2014-09-30   \n",
       "62                             Only War   2014-06-25   \n",
       "56                           Fairytales   2013-03-13   \n",
       "61                            Neverlove   2014-09-30   \n",
       "59                        A Case For Us   2014-09-30   \n",
       "58                 Super Pretty Naughty   2014-09-02   \n",
       "57                Superhero In My Heart   2014-09-30   \n",
       "52                  Je T’aime Mon Amour   2014-09-29   \n",
       "53                    Roses In The Rain   2014-09-09   \n",
       "54                         Baby Blanket   2014-09-30   \n",
       "67                            She Fades   2014-09-16   \n",
       "64                       Heart of Stone   2014-08-21   \n",
       "\n",
       "                         album  \\\n",
       "2       More Heart than Brains   \n",
       "0       More Heart than Brains   \n",
       "1       More Heart than Brains   \n",
       "3       More Heart than Brains   \n",
       "4       More Heart than Brains   \n",
       "13      More Heart than Brains   \n",
       "7       More Heart than Brains   \n",
       "14      More Heart than Brains   \n",
       "6       More Heart than Brains   \n",
       "5       More Heart than Brains   \n",
       "9                 20 Odd Years   \n",
       "10                20 Odd Years   \n",
       "1                 20 Odd Years   \n",
       "2                 20 Odd Years   \n",
       "3                 20 Odd Years   \n",
       "4                 20 Odd Years   \n",
       "5                 20 Odd Years   \n",
       "6                 20 Odd Years   \n",
       "8                 20 Odd Years   \n",
       "7                 20 Odd Years   \n",
       "11                20 Odd Years   \n",
       "0                 20 Odd Years   \n",
       "23            So Much Forever    \n",
       "15            So Much Forever    \n",
       "16            So Much Forever    \n",
       "17            So Much Forever    \n",
       "18            So Much Forever    \n",
       "19            So Much Forever    \n",
       "20            So Much Forever    \n",
       "22            So Much Forever    \n",
       "21            So Much Forever    \n",
       "25            So Much Forever    \n",
       "24            So Much Forever    \n",
       "60  Neverlove (Deluxe Edition)   \n",
       "55  Neverlove (Deluxe Edition)   \n",
       "68  Neverlove (Deluxe Edition)   \n",
       "66  Neverlove (Deluxe Edition)   \n",
       "65  Neverlove (Deluxe Edition)   \n",
       "63  Neverlove (Deluxe Edition)   \n",
       "62  Neverlove (Deluxe Edition)   \n",
       "56  Neverlove (Deluxe Edition)   \n",
       "61  Neverlove (Deluxe Edition)   \n",
       "59  Neverlove (Deluxe Edition)   \n",
       "58  Neverlove (Deluxe Edition)   \n",
       "57  Neverlove (Deluxe Edition)   \n",
       "52  Neverlove (Deluxe Edition)   \n",
       "53  Neverlove (Deluxe Edition)   \n",
       "54  Neverlove (Deluxe Edition)   \n",
       "67  Neverlove (Deluxe Edition)   \n",
       "64  Neverlove (Deluxe Edition)   \n",
       "\n",
       "                                               lyrics  \\\n",
       "2   first embrace pouring rain roaring pain girl m...   \n",
       "0   here its perfectly dark here its perfectly dar...   \n",
       "1                                                       \n",
       "3   rioting quietly we started fires and threw bri...   \n",
       "4   where i come from we never heard of bite we ca...   \n",
       "13  whispering ghosts seduction unlikely just out ...   \n",
       "7   theres a baby girl on the way blow your horn k...   \n",
       "14  always i will miss you always you always i wil...   \n",
       "6   dark promises dark mysteries memories distance...   \n",
       "5   without everything else heavily and only less ...   \n",
       "9   i am the deck you are the sea i am the light o...   \n",
       "10  michael jackson died today cycles action hidea...   \n",
       "1   i lay down for you in black and blue life here...   \n",
       "2   zombie delight zombie delight zombies are comi...   \n",
       "3   she wrote back too alone a single pair of shoo...   \n",
       "4   bcc the add we dont have much time you see bcc...   \n",
       "5   french singing  age is beauty bewildered young...   \n",
       "6   the sun is always shining bright at thirty tho...   \n",
       "8   tell me what is it is gee whiz i dont think i ...   \n",
       "7   down by the lake you saw me and you knew i was...   \n",
       "11  stop you need to listen just let me show you a...   \n",
       "0   and who by fire who by water who in the sunshi...   \n",
       "23  nevermore its revolution a spiral a crack vita...   \n",
       "15  i have two hearts and one of them is hard as h...   \n",
       "16                                                      \n",
       "17  sun and the rain one and the same builder dest...   \n",
       "18  how did it bleed it bled like fire how did it ...   \n",
       "19  i dont know how to love myself im hoping you c...   \n",
       "20  dark genius heart genius star venus freely dar...   \n",
       "22  i dreamed i was beautiful a hunter and frighte...   \n",
       "21  all we ever needs a voice and a device to play...   \n",
       "25  window seat in dead of night awake i saw a fri...   \n",
       "24  wolf sister we have just begun when the branch...   \n",
       "60  nsfw music video music video music video nsfw ...   \n",
       "55  heres a man whos come apart pieces missing unc...   \n",
       "68  thats the way love dies it starts when youre a...   \n",
       "66  i live in an ugly city nowhere else id rather ...   \n",
       "65  oh damn i wish that i were dead sleeping somew...   \n",
       "63  now im feeling devilish soon were going to set...   \n",
       "62  kiss it better stop the bleeding she attacks h...   \n",
       "56  i dont believe in fairytales in love and other...   \n",
       "61  back in the game on the prowl after noon looki...   \n",
       "59  maybe theres a place for us to go somewhere we...   \n",
       "58  fancy time naked saturday wild stylin now its ...   \n",
       "57  when my baby left me i cried for an entire yea...   \n",
       "52  je taime mon amour je taime tant cest dur de n...   \n",
       "53  this is where she finds herself alone and empt...   \n",
       "54  i dont want to be a bad person anymore a casua...   \n",
       "67  dont look now its the bte noir playin flute so...   \n",
       "64  cant break a heart of stone no youre only goin...   \n",
       "\n",
       "                 ordered_album  \n",
       "2       More Heart than Brains  \n",
       "0       More Heart than Brains  \n",
       "1       More Heart than Brains  \n",
       "3       More Heart than Brains  \n",
       "4       More Heart than Brains  \n",
       "13      More Heart than Brains  \n",
       "7       More Heart than Brains  \n",
       "14      More Heart than Brains  \n",
       "6       More Heart than Brains  \n",
       "5       More Heart than Brains  \n",
       "9                 20 Odd Years  \n",
       "10                20 Odd Years  \n",
       "1                 20 Odd Years  \n",
       "2                 20 Odd Years  \n",
       "3                 20 Odd Years  \n",
       "4                 20 Odd Years  \n",
       "5                 20 Odd Years  \n",
       "6                 20 Odd Years  \n",
       "8                 20 Odd Years  \n",
       "7                 20 Odd Years  \n",
       "11                20 Odd Years  \n",
       "0                 20 Odd Years  \n",
       "23            So Much Forever   \n",
       "15            So Much Forever   \n",
       "16            So Much Forever   \n",
       "17            So Much Forever   \n",
       "18            So Much Forever   \n",
       "19            So Much Forever   \n",
       "20            So Much Forever   \n",
       "22            So Much Forever   \n",
       "21            So Much Forever   \n",
       "25            So Much Forever   \n",
       "24            So Much Forever   \n",
       "60  Neverlove (Deluxe Edition)  \n",
       "55  Neverlove (Deluxe Edition)  \n",
       "68  Neverlove (Deluxe Edition)  \n",
       "66  Neverlove (Deluxe Edition)  \n",
       "65  Neverlove (Deluxe Edition)  \n",
       "63  Neverlove (Deluxe Edition)  \n",
       "62  Neverlove (Deluxe Edition)  \n",
       "56  Neverlove (Deluxe Edition)  \n",
       "61  Neverlove (Deluxe Edition)  \n",
       "59  Neverlove (Deluxe Edition)  \n",
       "58  Neverlove (Deluxe Edition)  \n",
       "57  Neverlove (Deluxe Edition)  \n",
       "52  Neverlove (Deluxe Edition)  \n",
       "53  Neverlove (Deluxe Edition)  \n",
       "54  Neverlove (Deluxe Edition)  \n",
       "67  Neverlove (Deluxe Edition)  \n",
       "64  Neverlove (Deluxe Edition)  "
      ],
      "text/html": "<div>\n<style scoped>\n    .dataframe tbody tr th:only-of-type {\n        vertical-align: middle;\n    }\n\n    .dataframe tbody tr th {\n        vertical-align: top;\n    }\n\n    .dataframe thead th {\n        text-align: right;\n    }\n</style>\n<table border=\"1\" class=\"dataframe\">\n  <thead>\n    <tr style=\"text-align: right;\">\n      <th></th>\n      <th>title</th>\n      <th>release_date</th>\n      <th>album</th>\n      <th>lyrics</th>\n      <th>ordered_album</th>\n    </tr>\n  </thead>\n  <tbody>\n    <tr>\n      <th>2</th>\n      <td>First Embrace</td>\n      <td>2009-05-26</td>\n      <td>More Heart than Brains</td>\n      <td>first embrace pouring rain roaring pain girl m...</td>\n      <td>More Heart than Brains</td>\n    </tr>\n    <tr>\n      <th>0</th>\n      <td>Lazarus Phenomenon</td>\n      <td>2009-05-26</td>\n      <td>More Heart than Brains</td>\n      <td>here its perfectly dark here its perfectly dar...</td>\n      <td>More Heart than Brains</td>\n    </tr>\n    <tr>\n      <th>1</th>\n      <td>Ending</td>\n      <td>2009-05-26</td>\n      <td>More Heart than Brains</td>\n      <td></td>\n      <td>More Heart than Brains</td>\n    </tr>\n    <tr>\n      <th>3</th>\n      <td>One More Time Forever</td>\n      <td>2009-05-26</td>\n      <td>More Heart than Brains</td>\n      <td>rioting quietly we started fires and threw bri...</td>\n      <td>More Heart than Brains</td>\n    </tr>\n    <tr>\n      <th>4</th>\n      <td>MC Space</td>\n      <td>2009-05-26</td>\n      <td>More Heart than Brains</td>\n      <td>where i come from we never heard of bite we ca...</td>\n      <td>More Heart than Brains</td>\n    </tr>\n    <tr>\n      <th>13</th>\n      <td>There Is Only One Of Us</td>\n      <td>2009-05-26</td>\n      <td>More Heart than Brains</td>\n      <td>whispering ghosts seduction unlikely just out ...</td>\n      <td>More Heart than Brains</td>\n    </tr>\n    <tr>\n      <th>7</th>\n      <td>Can Feel Love (anymore)</td>\n      <td>2009-05-26</td>\n      <td>More Heart than Brains</td>\n      <td>theres a baby girl on the way blow your horn k...</td>\n      <td>More Heart than Brains</td>\n    </tr>\n    <tr>\n      <th>14</th>\n      <td>Always I Will Miss You. Always You.</td>\n      <td>2009-05-26</td>\n      <td>More Heart than Brains</td>\n      <td>always i will miss you always you always i wil...</td>\n      <td>More Heart than Brains</td>\n    </tr>\n    <tr>\n      <th>6</th>\n      <td>More Heart Than Brains</td>\n      <td>2009-05-26</td>\n      <td>More Heart than Brains</td>\n      <td>dark promises dark mysteries memories distance...</td>\n      <td>More Heart than Brains</td>\n    </tr>\n    <tr>\n      <th>5</th>\n      <td>The Departure</td>\n      <td>2009-05-26</td>\n      <td>More Heart than Brains</td>\n      <td>without everything else heavily and only less ...</td>\n      <td>More Heart than Brains</td>\n    </tr>\n    <tr>\n      <th>9</th>\n      <td>Whispers Of The Waves</td>\n      <td>2011-01-01</td>\n      <td>20 Odd Years</td>\n      <td>i am the deck you are the sea i am the light o...</td>\n      <td>20 Odd Years</td>\n    </tr>\n    <tr>\n      <th>10</th>\n      <td>Superstars Don’t Love</td>\n      <td></td>\n      <td>20 Odd Years</td>\n      <td>michael jackson died today cycles action hidea...</td>\n      <td>20 Odd Years</td>\n    </tr>\n    <tr>\n      <th>1</th>\n      <td>Cold Steel Drum</td>\n      <td>2011-01-01</td>\n      <td>20 Odd Years</td>\n      <td>i lay down for you in black and blue life here...</td>\n      <td>20 Odd Years</td>\n    </tr>\n    <tr>\n      <th>2</th>\n      <td>Zombie Delight</td>\n      <td>2011-02-07</td>\n      <td>20 Odd Years</td>\n      <td>zombie delight zombie delight zombies are comi...</td>\n      <td>20 Odd Years</td>\n    </tr>\n    <tr>\n      <th>3</th>\n      <td>She Said Yes</td>\n      <td>2011-01-01</td>\n      <td>20 Odd Years</td>\n      <td>she wrote back too alone a single pair of shoo...</td>\n      <td>20 Odd Years</td>\n    </tr>\n    <tr>\n      <th>4</th>\n      <td>BCC</td>\n      <td>2011-01-01</td>\n      <td>20 Odd Years</td>\n      <td>bcc the add we dont have much time you see bcc...</td>\n      <td>20 Odd Years</td>\n    </tr>\n    <tr>\n      <th>5</th>\n      <td>Tears Of Your Heart</td>\n      <td>2011-02-07</td>\n      <td>20 Odd Years</td>\n      <td>french singing  age is beauty bewildered young...</td>\n      <td>20 Odd Years</td>\n    </tr>\n    <tr>\n      <th>6</th>\n      <td>Final Approach</td>\n      <td>2011-01-01</td>\n      <td>20 Odd Years</td>\n      <td>the sun is always shining bright at thirty tho...</td>\n      <td>20 Odd Years</td>\n    </tr>\n    <tr>\n      <th>8</th>\n      <td>Gee Whiz</td>\n      <td></td>\n      <td>20 Odd Years</td>\n      <td>tell me what is it is gee whiz i dont think i ...</td>\n      <td>20 Odd Years</td>\n    </tr>\n    <tr>\n      <th>7</th>\n      <td>Paper Airplane</td>\n      <td>2011-01-01</td>\n      <td>20 Odd Years</td>\n      <td>down by the lake you saw me and you knew i was...</td>\n      <td>20 Odd Years</td>\n    </tr>\n    <tr>\n      <th>11</th>\n      <td>Stop</td>\n      <td>2011-01-01</td>\n      <td>20 Odd Years</td>\n      <td>stop you need to listen just let me show you a...</td>\n      <td>20 Odd Years</td>\n    </tr>\n    <tr>\n      <th>0</th>\n      <td>Who By Fire</td>\n      <td></td>\n      <td>20 Odd Years</td>\n      <td>and who by fire who by water who in the sunshi...</td>\n      <td>20 Odd Years</td>\n    </tr>\n    <tr>\n      <th>23</th>\n      <td>The Last Romance</td>\n      <td>2014-02-11</td>\n      <td>So Much Forever</td>\n      <td>nevermore its revolution a spiral a crack vita...</td>\n      <td>So Much Forever</td>\n    </tr>\n    <tr>\n      <th>15</th>\n      <td>Heart as Hell</td>\n      <td>2014-02-11</td>\n      <td>So Much Forever</td>\n      <td>i have two hearts and one of them is hard as h...</td>\n      <td>So Much Forever</td>\n    </tr>\n    <tr>\n      <th>16</th>\n      <td>Intro</td>\n      <td>2014-02-11</td>\n      <td>So Much Forever</td>\n      <td></td>\n      <td>So Much Forever</td>\n    </tr>\n    <tr>\n      <th>17</th>\n      <td>You Can Be Everything</td>\n      <td>2014-02-11</td>\n      <td>So Much Forever</td>\n      <td>sun and the rain one and the same builder dest...</td>\n      <td>So Much Forever</td>\n    </tr>\n    <tr>\n      <th>18</th>\n      <td>Full Moon</td>\n      <td>2014-02-11</td>\n      <td>So Much Forever</td>\n      <td>how did it bleed it bled like fire how did it ...</td>\n      <td>So Much Forever</td>\n    </tr>\n    <tr>\n      <th>19</th>\n      <td>Sublimation</td>\n      <td>2014-02-11</td>\n      <td>So Much Forever</td>\n      <td>i dont know how to love myself im hoping you c...</td>\n      <td>So Much Forever</td>\n    </tr>\n    <tr>\n      <th>20</th>\n      <td>Agony</td>\n      <td>2014-02-11</td>\n      <td>So Much Forever</td>\n      <td>dark genius heart genius star venus freely dar...</td>\n      <td>So Much Forever</td>\n    </tr>\n    <tr>\n      <th>22</th>\n      <td>The Muse Inside Me</td>\n      <td>2014-02-11</td>\n      <td>So Much Forever</td>\n      <td>i dreamed i was beautiful a hunter and frighte...</td>\n      <td>So Much Forever</td>\n    </tr>\n    <tr>\n      <th>21</th>\n      <td>Successful With Heavy Losses</td>\n      <td>2014-02-11</td>\n      <td>So Much Forever</td>\n      <td>all we ever needs a voice and a device to play...</td>\n      <td>So Much Forever</td>\n    </tr>\n    <tr>\n      <th>25</th>\n      <td>Ethereal Love</td>\n      <td>2014-02-11</td>\n      <td>So Much Forever</td>\n      <td>window seat in dead of night awake i saw a fri...</td>\n      <td>So Much Forever</td>\n    </tr>\n    <tr>\n      <th>24</th>\n      <td>Wolf Sister</td>\n      <td>2014-02-11</td>\n      <td>So Much Forever</td>\n      <td>wolf sister we have just begun when the branch...</td>\n      <td>So Much Forever</td>\n    </tr>\n    <tr>\n      <th>60</th>\n      <td>NSFW Music Video</td>\n      <td>2014-09-30</td>\n      <td>Neverlove (Deluxe Edition)</td>\n      <td>nsfw music video music video music video nsfw ...</td>\n      <td>Neverlove (Deluxe Edition)</td>\n    </tr>\n    <tr>\n      <th>55</th>\n      <td>Danger And Play</td>\n      <td>2014-09-23</td>\n      <td>Neverlove (Deluxe Edition)</td>\n      <td>heres a man whos come apart pieces missing unc...</td>\n      <td>Neverlove (Deluxe Edition)</td>\n    </tr>\n    <tr>\n      <th>68</th>\n      <td>That’s The Way Love Dies</td>\n      <td>2014-09-30</td>\n      <td>Neverlove (Deluxe Edition)</td>\n      <td>thats the way love dies it starts when youre a...</td>\n      <td>Neverlove (Deluxe Edition)</td>\n    </tr>\n    <tr>\n      <th>66</th>\n      <td>Love Will Fuck You Up</td>\n      <td>2014-09-30</td>\n      <td>Neverlove (Deluxe Edition)</td>\n      <td>i live in an ugly city nowhere else id rather ...</td>\n      <td>Neverlove (Deluxe Edition)</td>\n    </tr>\n    <tr>\n      <th>65</th>\n      <td>Ugly Bridge</td>\n      <td>2014-09-30</td>\n      <td>Neverlove (Deluxe Edition)</td>\n      <td>oh damn i wish that i were dead sleeping somew...</td>\n      <td>Neverlove (Deluxe Edition)</td>\n    </tr>\n    <tr>\n      <th>63</th>\n      <td>Gates Of Hell</td>\n      <td>2014-09-30</td>\n      <td>Neverlove (Deluxe Edition)</td>\n      <td>now im feeling devilish soon were going to set...</td>\n      <td>Neverlove (Deluxe Edition)</td>\n    </tr>\n    <tr>\n      <th>62</th>\n      <td>Only War</td>\n      <td>2014-06-25</td>\n      <td>Neverlove (Deluxe Edition)</td>\n      <td>kiss it better stop the bleeding she attacks h...</td>\n      <td>Neverlove (Deluxe Edition)</td>\n    </tr>\n    <tr>\n      <th>56</th>\n      <td>Fairytales</td>\n      <td>2013-03-13</td>\n      <td>Neverlove (Deluxe Edition)</td>\n      <td>i dont believe in fairytales in love and other...</td>\n      <td>Neverlove (Deluxe Edition)</td>\n    </tr>\n    <tr>\n      <th>61</th>\n      <td>Neverlove</td>\n      <td>2014-09-30</td>\n      <td>Neverlove (Deluxe Edition)</td>\n      <td>back in the game on the prowl after noon looki...</td>\n      <td>Neverlove (Deluxe Edition)</td>\n    </tr>\n    <tr>\n      <th>59</th>\n      <td>A Case For Us</td>\n      <td>2014-09-30</td>\n      <td>Neverlove (Deluxe Edition)</td>\n      <td>maybe theres a place for us to go somewhere we...</td>\n      <td>Neverlove (Deluxe Edition)</td>\n    </tr>\n    <tr>\n      <th>58</th>\n      <td>Super Pretty Naughty</td>\n      <td>2014-09-02</td>\n      <td>Neverlove (Deluxe Edition)</td>\n      <td>fancy time naked saturday wild stylin now its ...</td>\n      <td>Neverlove (Deluxe Edition)</td>\n    </tr>\n    <tr>\n      <th>57</th>\n      <td>Superhero In My Heart</td>\n      <td>2014-09-30</td>\n      <td>Neverlove (Deluxe Edition)</td>\n      <td>when my baby left me i cried for an entire yea...</td>\n      <td>Neverlove (Deluxe Edition)</td>\n    </tr>\n    <tr>\n      <th>52</th>\n      <td>Je T’aime Mon Amour</td>\n      <td>2014-09-29</td>\n      <td>Neverlove (Deluxe Edition)</td>\n      <td>je taime mon amour je taime tant cest dur de n...</td>\n      <td>Neverlove (Deluxe Edition)</td>\n    </tr>\n    <tr>\n      <th>53</th>\n      <td>Roses In The Rain</td>\n      <td>2014-09-09</td>\n      <td>Neverlove (Deluxe Edition)</td>\n      <td>this is where she finds herself alone and empt...</td>\n      <td>Neverlove (Deluxe Edition)</td>\n    </tr>\n    <tr>\n      <th>54</th>\n      <td>Baby Blanket</td>\n      <td>2014-09-30</td>\n      <td>Neverlove (Deluxe Edition)</td>\n      <td>i dont want to be a bad person anymore a casua...</td>\n      <td>Neverlove (Deluxe Edition)</td>\n    </tr>\n    <tr>\n      <th>67</th>\n      <td>She Fades</td>\n      <td>2014-09-16</td>\n      <td>Neverlove (Deluxe Edition)</td>\n      <td>dont look now its the bte noir playin flute so...</td>\n      <td>Neverlove (Deluxe Edition)</td>\n    </tr>\n    <tr>\n      <th>64</th>\n      <td>Heart of Stone</td>\n      <td>2014-08-21</td>\n      <td>Neverlove (Deluxe Edition)</td>\n      <td>cant break a heart of stone no youre only goin...</td>\n      <td>Neverlove (Deluxe Edition)</td>\n    </tr>\n  </tbody>\n</table>\n</div>"
     },
     "metadata": {},
     "execution_count": 22
    }
   ],
   "source": [
    "# buck_albums from above with Bike For Three's albums inserted\n",
    "all_albums = [\n",
    "    'Game Tight',\n",
    "    'Year Zero',\n",
    "    'Weirdo Magnet',\n",
    "    'Language Arts',\n",
    "    'Vertex',\n",
    "    'Man Overboard',\n",
    "    'Synesthesia',\n",
    "    'Square',\n",
    "    'Talkin’ Honky Blues',\n",
    "    'Secret House Against The World',\n",
    "    'Situation ',\n",
    "    'More Heart than Brains',\n",
    "    '20 Odd Years',\n",
    "    'So Much Forever ',\n",
    "    'Laundromat Boogie',\n",
    "    'Neverlove (Deluxe Edition)'\n",
    "]\n",
    "\n",
    "songs = chron_order_albums(songs, all_albums)\n",
    "\n",
    "songs.tail(50)"
   ]
  },
  {
   "cell_type": "code",
   "execution_count": 35,
   "metadata": {},
   "outputs": [
    {
     "output_type": "stream",
     "name": "stdout",
     "text": [
      "All Lyrics: 51500\nAll Unique Lyrics: 8197\nFirst 35,000 Unique Lyrics: 6554\n"
     ]
    }
   ],
   "source": [
    "lyric_tokens_all = tokenize_lyrics(songs)\n",
    "print('All Lyrics:', len(lyric_tokens_all))\n",
    "print('All Unique Lyrics:', get_unique_lyrics(lyric_tokens_all))\n",
    "# get unique words in first 35,000 lyrics\n",
    "limited_tokens_all = lyric_tokens_all[:34999]\n",
    "print('First 35,000 Unique Lyrics:', get_unique_lyrics(limited_tokens_all))"
   ]
  },
  {
   "cell_type": "code",
   "execution_count": 37,
   "metadata": {},
   "outputs": [
    {
     "output_type": "stream",
     "name": "stdout",
     "text": [
      "Last 35,000 Unique Lyrics: 6412\n"
     ]
    }
   ],
   "source": [
    "last_tokens = lyric_tokens[-35000:]\n",
    "print('Last 35,000 Unique Lyrics:', get_unique_lyrics(last_tokens))"
   ]
  },
  {
   "cell_type": "code",
   "execution_count": 27,
   "metadata": {},
   "outputs": [
    {
     "output_type": "stream",
     "name": "stdout",
     "text": [
      "[6537, 6541, 6553, 6581, 6590, 6591, 6604, 6606, 6628, 6634]\n6586.5\n"
     ]
    }
   ],
   "source": [
    "sample_results_all = sample_lyrics(songs)\n",
    "print('Random 35,000 Unique Lyrics:')\n",
    "print(sorted(sample_results_all))\n",
    "print(mean(sample_results_all))"
   ]
  },
  {
   "source": [
    "# Final Conclusion\n",
    "\n",
    "The effect from adding the two Bike for Three albums was surprising to say the least. I was expecting a large increase in unique words, but other than in the total, adding these albums actually caused a slight decrease in all three samples. It's not enough of a decrease in the first 35,000 sample to knock Buck out of 3rd place, but still notable.\n",
    "\n",
    "## The Takeaway\n",
    "Using Matt Daniel's methodology, I've analyzed the number of unique words that Canadian rapper Buck 65 has used in his first 35,000 lyrics. It's 6,557 unique words, which would put him in 3rd place on the chart. While this number does change slightly depending on the sample and on the inclusion of other albums, those changes keep him comfortably in 3rd place."
   ],
   "cell_type": "markdown",
   "metadata": {}
  }
 ]
}